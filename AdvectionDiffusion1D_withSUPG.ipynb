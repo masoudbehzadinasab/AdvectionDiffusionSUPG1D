{
 "cells": [
  {
   "cell_type": "markdown",
   "id": "silent-event",
   "metadata": {},
   "source": [
    "# An FEM solution to the Advection-Diffusion Equation"
   ]
  },
  {
   "cell_type": "markdown",
   "id": "modified-orlando",
   "metadata": {},
   "source": [
    "We would like to use FEM to solve the **galerkin** form of the AD equation. "
   ]
  },
  {
   "cell_type": "markdown",
   "id": "flush-dietary",
   "metadata": {},
   "source": [
    "#### Strong form of the incompressible advection-diffusion equation:\n",
    "$$\\mathbf{a} \\cdot \\nabla \\mathbf{u} - \\nabla \\cdot (k \\nabla \\mathbf{u}) - \\mathbf{f} = \\mathbf{0} \\quad \\text{s.t.} \\ \\ \\mathbf{u} = \\mathbf{g} \\ \\ \\text{on} \\ \\ \\Gamma $$\n",
    "or\n",
    "$$\\mathcal{L}(\\mathbf{u}) - \\mathbf{f} = \\mathbf{0} \\quad \\text{s.t.} \\ \\ \\mathbf{u} = \\mathbf{g} \\ \\ \\text{on} \\ \\ \\Gamma$$\n",
    "\n",
    "#### Weak form of the incompressible advection-diffusion equation:\n",
    "$$\\int_\\Omega \\mathbf{w} \\cdot \\big( \\mathbf{a} \\cdot \\nabla \\mathbf{u} - \\nabla \\cdot (k \\nabla \\mathbf{u}) - \\mathbf{f} \\big) \\, {\\rm d}\\Omega = 0 \\quad \\text{s.t.} \\ \\ \\mathbf{u} = \\mathbf{g} \\ \\ \\text{on} \\ \\ \\Gamma $$\n",
    "\n",
    "Integration by parts and noting the vanishing of test function on $\\Gamma$:\n",
    "$$\\int_\\Omega \\mathbf{w} \\cdot ( \\mathbf{a} \\cdot \\nabla \\mathbf{u} ) \\, {\\rm d}\\Omega + \\int_\\Omega \\nabla \\mathbf{w} \\cdot (k \\nabla \\mathbf{u}) \\, {\\rm d}\\Omega - \\int_\\Omega \\mathbf{w} \\cdot \\mathbf{f} \\, {\\rm d}\\Omega = 0 \\quad \\text{s.t.} \\ \\ \\mathbf{u} = \\mathbf{g} \\ \\ \\text{on} \\ \\ \\Gamma$$ \n",
    "or\n",
    "$$B(\\mathbf{w},\\mathbf{u}) = (\\mathbf{w},\\mathbf{f}) \\quad \\text{s.t.} \\ \\ \\mathbf{u} = \\mathbf{g} \\ \\ \\text{on} \\ \\ \\Gamma$$"
   ]
  },
  {
   "cell_type": "markdown",
   "id": "owned-marble",
   "metadata": {},
   "source": [
    "### Galerkin's method\n",
    "Find $\\mathbf{u}^h = \\mathbf{v}^h + \\mathbf{g}^h$ where $\\mathbf{v}^h \\in \\mathcal{V}^h$ s.t. $\\forall \\mathbf{w}^h \\in \\mathcal{V}^h$: $B(\\mathbf{w}^h,\\mathbf{u}^h) = 0$\n",
    "$$\\mathbf{v}^h(\\mathbf{x}) = \\sum_{A=1}^N \\mathbf{v}_A N_A(\\mathbf{x})$$\n",
    "$$\\mathbf{w}^h(\\mathbf{x}) = \\sum_{A=1}^N \\mathbf{w}_B N_B(\\mathbf{x})$$"
   ]
  },
  {
   "cell_type": "markdown",
   "id": "subtle-parks",
   "metadata": {},
   "source": [
    "#### Consider the 1D case with $\\Omega = [0,L]$:\n",
    "$$B(w,u) = \\int_0^L w \\, a \\dfrac{{\\rm d}u}{{\\rm d}x} \\, {\\rm d}x + \\int_0^L \\dfrac{{\\rm d}w}{{\\rm d}x} k \\dfrac{{\\rm d}u}{{\\rm d}x} \\, {\\rm d}x = \\int_0^L w \\, f \\, {\\rm d}x$$"
   ]
  },
  {
   "cell_type": "markdown",
   "id": "british-reproduction",
   "metadata": {},
   "source": [
    "**Galerkin** - Consider a discretization with $NC$ number of control points (i.e., FE nodes)\n",
    "$$\\sum_{b=1}^{NC} \\big(K^{\\rm adv}_{ab} + K^{\\rm diff}_{ab}\\big) \\, u_b = F_a, \\qquad \\forall a=1,...,NC$$\n",
    "$$K^{\\rm adv}_{ab} = \\int_{-1}^{1} N_a \\, a \\, \\dfrac{{\\rm d}N_b}{{\\rm d}\\xi} \\, {\\rm d}\\xi$$\n",
    "\n",
    "$$K^{\\rm diff}_{ab} = \\int_{-1}^{1} \\dfrac{{\\rm d}N_a}{{\\rm d}\\xi} \\, k \\, \\dfrac{{\\rm d}N_b}{{\\rm d}\\xi} \\, \\dfrac{{\\rm d}\\xi}{{\\rm d}x} \\, {\\rm d}\\xi$$\n",
    "\n",
    "$$F_{a} = \\int_{-1}^{1} N_a \\, f \\, \\dfrac{{\\rm d}x}{{\\rm d}\\xi} \\, {\\rm d}\\xi$$"
   ]
  },
  {
   "cell_type": "markdown",
   "id": "sufficient-salvation",
   "metadata": {},
   "source": [
    "### The objective here is to study the role of *convective* velocity on stability and add the SUPG stabilization to the system."
   ]
  },
  {
   "cell_type": "markdown",
   "id": "involved-trace",
   "metadata": {},
   "source": [
    "Add the SUPG term to the system:\n",
    "$$B_{\\rm SUPG}(w^h,u^h) = \\int_0^L a \\, \\dfrac{{\\rm d}w^h}{{\\rm d}x} \\tau \\big( \\mathcal{L}(u^h) - f \\big) \\, {\\rm d}x $$\n",
    "\n",
    "Note that the stabilization parameter $\\tau$ is defined on the element level:\n",
    "$$\\tau_e = \\dfrac{h_e}{2a} \\min{\\! \\big(\\dfrac{\\alpha_e}{3}, 1 \\big)}$$"
   ]
  },
  {
   "cell_type": "markdown",
   "id": "mighty-awareness",
   "metadata": {},
   "source": [
    "Considering that for a linear FE system, $\\dfrac{{\\rm d}}{{\\rm d}x} \\Big(k \\dfrac{{\\rm d}u}{{\\rm d}x}\\Big) = 0$\n",
    "$$K^{\\rm SUPG}_{ab} = \\int_{-1}^{1} a^2 \\, \\tau \\, \\dfrac{{\\rm d}N_a}{{\\rm d}\\xi} \\, \\dfrac{{\\rm d}N_b}{{\\rm d}\\xi} \\, \\dfrac{{\\rm d}\\xi}{{\\rm d}x} \\, {\\rm d}\\xi$$\n",
    "\n",
    "$$F^{\\rm SUPG}_{a} = \\int_{-1}^{1} a \\, \\tau \\, \\dfrac{{\\rm d}N_a}{{\\rm d}\\xi} \\, f \\, {\\rm d}\\xi$$"
   ]
  },
  {
   "cell_type": "markdown",
   "id": "olive-survival",
   "metadata": {},
   "source": [
    "#### Let's start coding!"
   ]
  },
  {
   "cell_type": "markdown",
   "id": "nominated-practitioner",
   "metadata": {},
   "source": [
    "Import the required python modules for this code:"
   ]
  },
  {
   "cell_type": "code",
   "execution_count": 1,
   "id": "raising-stewart",
   "metadata": {},
   "outputs": [],
   "source": [
    "import numpy as np\n",
    "import scipy.linalg\n",
    "import scipy.sparse\n",
    "import scipy.sparse.linalg\n",
    "import matplotlib.pyplot as plt"
   ]
  },
  {
   "cell_type": "markdown",
   "id": "measured-lawsuit",
   "metadata": {},
   "source": [
    "#### Adopting the object-oriented programming, we write the following Python *class*:"
   ]
  },
  {
   "cell_type": "code",
   "execution_count": 2,
   "id": "unsigned-accountability",
   "metadata": {},
   "outputs": [],
   "source": [
    "class advectionDiffusionFEM():\n",
    "\n",
    "    def __init__(self, L, num_elem, convective_vel, diffusivity, f, u0, uL, ADD_SUPG=True):\n",
    "        \"\"\"\n",
    "            Initialize the model.\n",
    "           \n",
    "            input: L -> the size of domain\n",
    "            input: num_elem -> the number of elements in the analysis\n",
    "            input: conv_vel -> the convective velocity\n",
    "            input: u0, uL -> essential boundary conditions\n",
    "            input: ADD_SUPG -> flag to indicate whether SUPG stabilization is added to the system\n",
    "            output: the model problem object\n",
    "        \"\"\"\n",
    "        \n",
    "        #Discretize a 1D domain (0,L) into a number of elements and store the nodal positions\n",
    "        #We are using linear shape functions, therefore, there are two nodes in each element\n",
    "        nodes = np.linspace(0,L,num_elem+1)\n",
    "        \n",
    "        #1D case\n",
    "        self.X = nodes\n",
    "        \n",
    "        #Create the connectivity matrix for bookkeeping purposes\n",
    "        #Each row in connect contains the nodal numbers for each element, starting from element 1\n",
    "        #Considering that there are two nodes in each element:\n",
    "        self.connect = np.zeros((num_elem,2), dtype=np.int)\n",
    "        for i in range(num_elem):\n",
    "            self.connect[i] = [i,i+1]\n",
    "            \n",
    "        self.L = L\n",
    "        self.num_elem = num_elem\n",
    "        \n",
    "        #Create an array containing the element size\n",
    "        #In this case, we have linear elements\n",
    "        self.h = self.X[1:] - self.X[:-1]\n",
    "        \n",
    "        #Each node has 1 degree of freedom\n",
    "        self.num_dof = nodes.size\n",
    "        \n",
    "        #Store the involved parameters\n",
    "        self.a = convective_vel\n",
    "        self.k = diffusivity\n",
    "        self.f = f\n",
    "        self.u0 = u0\n",
    "        self.uL = uL\n",
    "        \n",
    "        self.ADD_SUPG = ADD_SUPG\n",
    "        \n",
    "        #Let's calculate the SUPG constant in the initialization phase\n",
    "        if self.ADD_SUPG:\n",
    "            self.compute_SUPG_constant()\n",
    "        \n",
    "    def compute_SUPG_constant(self):\n",
    "        \"\"\"Compute the SUPG constant for each element.\"\"\"\n",
    "        \n",
    "        self.alpha = self.a * self.h / (2*self.k)\n",
    "        \n",
    "        self.tau = self.h / (2*self.a) * np.minimum(self.alpha/3, 1)\n",
    "\n",
    "    def N(self, xi):\n",
    "        \"\"\"Compute linear shape functions in parametric coordinates.\"\"\"\n",
    "        \n",
    "        return [1 / 2. * (1 - xi),\n",
    "                1 / 2. * (1 + xi)]\n",
    "\n",
    "    def dNdxi(self, xi):\n",
    "        \"\"\"Compute linear shape function derivatives with respect to xi\"\"\"\n",
    "\n",
    "        return [-1 / 2.,\n",
    "                1 / 2.]\n",
    "    \n",
    "    def compute_jacobian_matrix_and_inverse(self, xi):\n",
    "        \"\"\"\n",
    "           Compute the Jacobian matrix and det(J) for every element\n",
    "        \"\"\"\n",
    "        \n",
    "        #Understand we are broadcasting the dot product to every element\n",
    "        J = np.dot(self.X[self.connect], self.dNdxi(xi))\n",
    "        \n",
    "        #detJ is a vector containing the Jacobian determinant for every element\n",
    "        self.detJ = J\n",
    "        \n",
    "        self.Jinv = 1. / self.detJ       \n",
    "\n",
    "    def compute_k_adv_integrand(self, xi):\n",
    "        \"\"\"Computes the k_adv integrand matrix for a given xi\"\"\"\n",
    "            \n",
    "        #Returns detJ and Jinv components for this xi\n",
    "        #self.compute_jacobian_matrix_and_inverse(xi) #we don't need the jacobians here\n",
    "\n",
    "        this_N = self.N(xi)\n",
    "        this_dN = self.dNdxi(xi)\n",
    "            \n",
    "        #ke_adv[ab] = a N[a] dN_dxi[b]\n",
    "        return np.einsum(',a,b->ab', self.a, this_N, this_dN) # this turns out the same for every element \n",
    "\n",
    "    def integrate_k_adv_matrix(self):\n",
    "        \"\"\"Integrate k_adv matrix with Gauss integration\"\"\"\n",
    "            \n",
    "        #Use 2 Gauss integration\n",
    "        num_gauss_points = 2\n",
    "        \n",
    "        wts = [1., 1.]\n",
    "        pts = [-np.sqrt(1 / 3.), np.sqrt(1 / 3.)]\n",
    "        \n",
    "        ke = np.zeros((self.num_elem, 2, 2))\n",
    "            \n",
    "        for i in range(num_gauss_points):\n",
    "            ke += wts[i] * self.compute_k_adv_integrand(pts[i])\n",
    "                    \n",
    "        return ke  \n",
    "\n",
    "    def compute_k_diff_integrand(self, xi):\n",
    "        \"\"\"Computes the k_diff integrand matrix for a given xi\"\"\"\n",
    "            \n",
    "        #Returns detJ and Jinv components for this xi\n",
    "        self.compute_jacobian_matrix_and_inverse(xi)\n",
    "\n",
    "        this_dN = self.dNdxi(xi)\n",
    "            \n",
    "        #ke_diff[ab] = k dN_dxi[a] dN_dxi[b] dxi_dx\n",
    "        return np.einsum(',a,b,m->mab', self.k, this_dN, this_dN, self.Jinv)\n",
    "\n",
    "    def integrate_k_diff_matrix(self):\n",
    "        \"\"\"Integrate k_diff matrix with Gauss integration\"\"\"\n",
    "            \n",
    "        #Use 2 Gauss integration\n",
    "        num_gauss_points = 2\n",
    "        \n",
    "        wts = [1., 1.]\n",
    "        pts = [-np.sqrt(1 / 3.), np.sqrt(1 / 3.)]\n",
    "        \n",
    "        ke = np.zeros((self.num_elem, 2, 2))\n",
    "            \n",
    "        for i in range(num_gauss_points):\n",
    "            ke += wts[i] * self.compute_k_diff_integrand(pts[i])\n",
    "                    \n",
    "        return ke\n",
    "\n",
    "    def compute_k_supg_integrand(self, xi):\n",
    "        \"\"\"Computes the k_supg integrand matrix for a given xi\"\"\"\n",
    "            \n",
    "        #Returns detJ and Jinv components for this xi\n",
    "        self.compute_jacobian_matrix_and_inverse(xi)\n",
    "\n",
    "        this_dN = self.dNdxi(xi)\n",
    "            \n",
    "        #ke_diff[ab] = k dN_dxi[a] dN_dxi[b] dxi_dx\n",
    "        return np.einsum(',m,a,b,m->mab', self.a*self.a, self.tau, this_dN, this_dN, self.Jinv)\n",
    "\n",
    "    def integrate_k_supg_matrix(self):\n",
    "        \"\"\"Integrate k_supg matrix with Gauss integration\"\"\"\n",
    "            \n",
    "        #Use 2 Gauss integration\n",
    "        num_gauss_points = 2\n",
    "        \n",
    "        wts = [1., 1.]\n",
    "        pts = [-np.sqrt(1 / 3.), np.sqrt(1 / 3.)]\n",
    "        \n",
    "        ke = np.zeros((self.num_elem, 2, 2))\n",
    "            \n",
    "        for i in range(num_gauss_points):\n",
    "            ke += wts[i] * self.compute_k_supg_integrand(pts[i])\n",
    "                    \n",
    "        return ke\n",
    "\n",
    "    def compute_f_integrand(self, xi):\n",
    "        \"\"\"Computes the f integrand vector for a given xi\"\"\"\n",
    "            \n",
    "        #Returns detJ and Jinv components for this xi\n",
    "        self.compute_jacobian_matrix_and_inverse(xi)\n",
    "\n",
    "        this_N = self.N(xi)\n",
    "            \n",
    "        #fe[a] = N[a] f dx_dxi\n",
    "        return np.einsum('a,,m->ma', this_N, self.f, self.detJ)\n",
    "\n",
    "    def integrate_f_vector(self):\n",
    "        \"\"\"Integrate F vector with Gauss integration\"\"\"\n",
    "            \n",
    "        #Use 2 Gauss integration\n",
    "        num_gauss_points = 2\n",
    "        \n",
    "        wts = [1., 1.]\n",
    "        pts = [-np.sqrt(1 / 3.), np.sqrt(1 / 3.)]\n",
    "        \n",
    "        fe = np.zeros((self.num_elem, 2))\n",
    "            \n",
    "        for i in range(num_gauss_points):\n",
    "            fe += wts[i] * self.compute_f_integrand(pts[i])\n",
    "                    \n",
    "        return fe\n",
    "\n",
    "    def compute_f_supg_integrand(self, xi):\n",
    "        \"\"\"Computes the f_supg integrand vector for a given xi\"\"\"\n",
    "\n",
    "        this_dN = self.dNdxi(xi)\n",
    "            \n",
    "        #fe[a] = N[a] f dx_dxi\n",
    "        return np.einsum(',m,a,->ma', self.a, self.tau, this_dN, self.f)\n",
    "\n",
    "    def integrate_f_supg_vector(self):\n",
    "        \"\"\"Integrate F_supg vector with Gauss integration\"\"\"\n",
    "            \n",
    "        #Use 2 Gauss integration\n",
    "        num_gauss_points = 2\n",
    "        \n",
    "        wts = [1., 1.]\n",
    "        pts = [-np.sqrt(1 / 3.), np.sqrt(1 / 3.)]\n",
    "        \n",
    "        fe = np.zeros((self.num_elem, 2))\n",
    "            \n",
    "        for i in range(num_gauss_points):\n",
    "            fe += wts[i] * self.compute_f_supg_integrand(pts[i])\n",
    "                    \n",
    "        return fe\n",
    "\n",
    "    def assemble(self):\n",
    "        \"\"\"Assemble element stiffness into global\"\"\"\n",
    "        \n",
    "        #Allocate global tangent and r.h.s vector\n",
    "        self.Kmat = np.zeros((self.num_dof, self.num_dof), dtype=np.double)\n",
    "        self.Fvec = np.zeros(self.num_dof, dtype=np.double)\n",
    "        \n",
    "        #Calculate the tangent and source terms on the local elements\n",
    "        ke_adv = self.integrate_k_adv_matrix()\n",
    "        ke_diff = self.integrate_k_diff_matrix()\n",
    "        fe = self.integrate_f_vector()\n",
    "        \n",
    "        if self.ADD_SUPG:\n",
    "            ke_supg = self.integrate_k_supg_matrix()\n",
    "            fe_supg = self.integrate_f_supg_vector()\n",
    "    \n",
    "        for i in range(self.num_elem):\n",
    "            idx_grid = np.ix_(self.connect[i], self.connect[i])\n",
    "            self.Kmat[idx_grid] += ke_adv[i]\n",
    "            self.Kmat[idx_grid] += ke_diff[i]\n",
    "            if self.ADD_SUPG:\n",
    "                self.Kmat[idx_grid] += ke_supg[i]\n",
    "    \n",
    "        for i in range(self.num_elem):\n",
    "            idx_grid = self.connect[i]\n",
    "            self.Fvec[idx_grid] += fe[i]\n",
    "            if self.ADD_SUPG:\n",
    "                self.Fvec[idx_grid] += fe_supg[i]\n",
    "            \n",
    "            \n",
    "        #Add the SUPG contribution to the system\n",
    "        \n",
    "\n",
    "    def apply_essential_bc(self):\n",
    "        \"\"\"\n",
    "           Modifies l.h.s. matrix and r.h.s. vector for essential b.c.s.\n",
    "        \"\"\"\n",
    "        \n",
    "        row_replace = np.zeros(self.num_dof)\n",
    "      \n",
    "        #x=0 (first node)\n",
    "        self.Kmat[0] = row_replace\n",
    "        self.Kmat[0,0] = 1\n",
    "        self.Fvec[0] = self.u0\n",
    "      \n",
    "        #x=L (last node)\n",
    "        self.Kmat[-1] = row_replace\n",
    "        self.Kmat[-1,-1] = 1\n",
    "        self.Fvec[-1] = self.uL\n",
    "            \n",
    "    def solve(self):\n",
    "        \"\"\"Solve the global system of equations\"\"\"\n",
    "        \n",
    "        #Convert to a sparse type matrix\n",
    "        self.Kmat = scipy.sparse.csr_matrix(self.Kmat)\n",
    "        \n",
    "        #Solve the system\n",
    "        U = scipy.sparse.linalg.spsolve(self.Kmat,self.Fvec)\n",
    "        #U = np.linalg.solve(self.Kmat, self.Fvec)\n",
    "        \n",
    "        #We got the solution\n",
    "        self.u = U \n",
    "            \n",
    "    def eval_exact_sol(self):\n",
    "        \"\"\"Evaluate the exact solution at all the nodes\"\"\"\n",
    "        \n",
    "        if self.a != 0.0:\n",
    "            # u_ex = c1 + c2 exp(ax/k) + fx/a\n",
    "\n",
    "            # bcs\n",
    "            # 1. c1 + c2 = U0\n",
    "            # 2. c1 + c2 exp(aL/k) = UL - fL/a\n",
    "\n",
    "            c2 = (self.uL - self.u0 - self.f * self.L / self.a) / (np.exp(self.a * self.L / self.k) - 1.)\n",
    "            c1 = self.u0 - c2\n",
    "\n",
    "            self.u_ex = c1 + c2 * np.exp(self.a * self.X / self.k) + self.f * self.X / self.a\n",
    "            \n",
    "        else:\n",
    "            # u_ex = c1 + c2 x - fx^2/2k\n",
    "\n",
    "            # bcs\n",
    "            # 1. c1 = U0\n",
    "            # 2. c1 + c2 L = UL + fL^2/2k\n",
    "            \n",
    "            c1 = self.u0\n",
    "            c2 = (self.uL - self.u0 + self.f * self.L**2 / (2. * self.k)) / self.L\n",
    "\n",
    "            self.u_ex = c1 + c2 * self.X - self.f * self.X**2 / (2. * self.k)\n",
    "            \n",
    "    def eval_exact_sol_at_x(self, x):\n",
    "        \"\"\"Evaluate the exact solution at a given (array of) points\"\"\"\n",
    "        \n",
    "        if self.a != 0.0:\n",
    "            # u_ex = c1 + c2 exp(ax/k) + fx/a\n",
    "\n",
    "            # bcs\n",
    "            # 1. c1 + c2 = U0\n",
    "            # 2. c1 + c2 exp(aL/k) = UL - fL/a\n",
    "\n",
    "            c2 = (self.uL - self.u0 - self.f * self.L / self.a) / (np.exp(self.a * self.L / self.k) - 1.)\n",
    "            c1 = self.u0 - c2\n",
    "\n",
    "            u_ex = c1 + c2 * np.exp(self.a * x / self.k) + self.f * x / self.a\n",
    "            \n",
    "        else:\n",
    "            # u_ex = c1 + c2 x - fx^2/2k\n",
    "\n",
    "            # bcs\n",
    "            # 1. c1 = U0\n",
    "            # 2. c1 + c2 L = UL + fL^2/2k\n",
    "            \n",
    "            c1 = self.u0\n",
    "            c2 = (self.uL - self.u0 + self.f * self.L**2 / (2. * self.k)) / self.L\n",
    "\n",
    "            u_ex = c1 + c2 * x - self.f * x**2 / (2. * self.k)\n",
    "            \n",
    "        return u_ex\n",
    "            \n",
    "    def compute_l2_error_integrand(self, xi):\n",
    "        \"\"\"Compute the l2 norm error integrand\"\"\"\n",
    "            \n",
    "        #Returns detJ and Jinv components for this xi\n",
    "        self.compute_jacobian_matrix_and_inverse(xi)\n",
    "\n",
    "        this_N = self.N(xi)\n",
    "        \n",
    "        #interpolate the solution at the gauss point\n",
    "        this_u = np.einsum('ma,a->m', self.u[self.connect], this_N) # u @ gauss point for each element\n",
    "        \n",
    "        #evaluate the exact solution at the gauss point\n",
    "        this_X = np.einsum('ma,a->m', self.X[self.connect], this_N) # X @ gauss point for each element\n",
    "        this_u_ex = self.eval_exact_sol_at_x(this_X)\n",
    "        \n",
    "        this_error = this_u - this_u_ex\n",
    "        \n",
    "        l2_integrand = this_error**2 * self.detJ \n",
    "            \n",
    "        return l2_integrand\n",
    "            \n",
    "    def eval_l2_error(self):\n",
    "        \"\"\"Evaluate the l2 norm error\"\"\"\n",
    "    \n",
    "        #Use 2 Gauss integration\n",
    "        num_gauss_points = 2\n",
    "        \n",
    "        wts = [1., 1.]\n",
    "        pts = [-np.sqrt(1 / 3.), np.sqrt(1 / 3.)]\n",
    "        \n",
    "        l2err = np.zeros((self.num_elem))\n",
    "            \n",
    "        for i in range(num_gauss_points):\n",
    "            l2err += wts[i] * self.compute_l2_error_integrand(pts[i])\n",
    "                    \n",
    "        l2err = np.sqrt(np.sum(l2err)) # now lets sum over all elements and sqrt\n",
    "        \n",
    "        return l2err\n",
    "    \n",
    "\n",
    "    def plot(self):\n",
    "        \"\"\"Make the plots\"\"\"\n",
    "        \n",
    "        #Velocity plot\n",
    "        fig, ax = plt.subplots(figsize=(9,9))\n",
    "\n",
    "        ax.plot(self.X, self.u, 'k', label='FEM')\n",
    "        ax.plot(self.X, self.u_ex, 'ro', label='Exact')\n",
    "        \n",
    "        ax.legend(fontsize=20)\n",
    "        ax.tick_params(labelsize=20);\n",
    "        ax.set_xlabel('x', fontsize=24);\n",
    "        ax.set_ylabel('u', fontsize=24);\n",
    "        \n",
    "        #plt.savefig(\"velocity.png\",bbox_inches='tight') #if you would like to save it"
   ]
  },
  {
   "cell_type": "markdown",
   "id": "described-poverty",
   "metadata": {},
   "source": [
    "# Here we use the class to solve a problem."
   ]
  },
  {
   "cell_type": "code",
   "execution_count": 3,
   "id": "chief-boxing",
   "metadata": {},
   "outputs": [],
   "source": [
    "# Input\n",
    "L = 1 # length of 1D domain\n",
    "num_elem = 10 # number of elements\n",
    "a = 250 # convective_vel\n",
    "diffusivity = 1 # diffusivity\n",
    "f = 5 # source term\n",
    "u0 = 0 # essential bc (vel) @ x=0\n",
    "uL = 1 # essential bc (vel) @ x=L"
   ]
  },
  {
   "cell_type": "markdown",
   "id": "three-header",
   "metadata": {},
   "source": [
    "Let's calculate the $\\alpha$ parameter to check the stability."
   ]
  },
  {
   "cell_type": "code",
   "execution_count": 4,
   "id": "destroyed-russia",
   "metadata": {},
   "outputs": [
    {
     "name": "stdout",
     "output_type": "stream",
     "text": [
      "α = 12.5\n",
      "α > 1 --> Warning: Your method is unstable here. Try using more elements.\n"
     ]
    }
   ],
   "source": [
    "h = L / num_elem\n",
    "k = diffusivity\n",
    "alpha = a * h / (2*k)\n",
    "\n",
    "print('\\u03B1 =', alpha)\n",
    "\n",
    "if alpha > 1:\n",
    "    print('\\u03B1 > 1 --> Warning: Your method is unstable here. Try using more elements.')\n",
    "elif alpha < 1:\n",
    "    print('\\u03B1 < 1 --> Your method is stable here.')\n",
    "else:\n",
    "    print('\\u03B1 = 1 --> Warning: Your method is neutrally stable here. It is better to use more elements.')"
   ]
  },
  {
   "cell_type": "markdown",
   "id": "sharing-paragraph",
   "metadata": {},
   "source": [
    "#### Let's assemble the problem per input and solve it."
   ]
  },
  {
   "cell_type": "code",
   "execution_count": 5,
   "id": "spread-tourism",
   "metadata": {},
   "outputs": [
    {
     "data": {
      "image/png": "[encoded data removed]",
      "text/plain": [
       "<Figure size 648x648 with 1 Axes>"
      ]
     },
     "metadata": {
      "needs_background": "light"
     },
     "output_type": "display_data"
    }
   ],
   "source": [
    "#Instatiate the problem\n",
    "problem = advectionDiffusionFEM(L=L, \n",
    "                                num_elem=num_elem, \n",
    "                                convective_vel=a, \n",
    "                                diffusivity=k, \n",
    "                                f=f, \n",
    "                                u0=u0, \n",
    "                                uL=uL,\n",
    "                                ADD_SUPG=True)\n",
    "\n",
    "#Assemble\n",
    "problem.assemble()\n",
    "\n",
    "#Apply boundary conditions\n",
    "problem.apply_essential_bc()\n",
    "\n",
    "#Solve\n",
    "problem.solve()\n",
    "\n",
    "#Evaluate the exact solution\n",
    "problem.eval_exact_sol()\n",
    "\n",
    "#Post processing\n",
    "problem.plot()"
   ]
  },
  {
   "cell_type": "markdown",
   "id": "indie-inclusion",
   "metadata": {},
   "source": [
    "# Assignment \n",
    "1. Add the SUPG stabilization to the system.\n",
    "2. Perform a convergence study for a given parameter set ($a, k, f$), considering the L2 norm. \n",
    "\n",
    "Note that the exact solution for a constant set of $a, k, f$ is:\n",
    "$$u_{\\rm ex}(x) = c_1 + c_2 \\exp{(ax/k)} + f x / a$$\n",
    "where $c_1$ and $c_2$ are obtained with respect to the boundary conditions $u_0$ and $u_L$."
   ]
  },
  {
   "cell_type": "markdown",
   "id": "tough-thousand",
   "metadata": {},
   "source": [
    "## Convergence study \n",
    "Now that we have the SUPG implementation, we want to perform a convergence study using the base model with and without the SUPG stabilization."
   ]
  },
  {
   "cell_type": "markdown",
   "id": "bizarre-interaction",
   "metadata": {},
   "source": [
    "$$\\big|\\big|\\, u^h - u\\, \\big|\\big|_{L_2(\\Omega)} = \\sqrt{\\int_\\Omega \\big(u^h - u\\big) \\cdot \\big(u^h - u\\big) \\, {\\rm d}\\Omega}$$\n",
    "$$\\big|\\big|\\, u^h - u\\, \\big|\\big|_{L_2(\\Omega)} = \\sqrt{\\sum_{ne} \\int_{\\Omega_e} \\big(u^h - u\\big) \\cdot \\big(u^h - u\\big) \\, {\\rm d}{\\Omega_e}} = \\sqrt{\\sum_{ne} \\big|\\big|\\, u^h - u\\, \\big|\\big|_{L_2(\\Omega_e)}^2}$$\n",
    "$$\\big|\\big|\\, u^h - u\\, \\big|\\big|_{L_2(\\Omega_e)}^2 = \\int_{-1}^{1} \\big(u^h - u\\big) \\cdot \\big(u^h - u\\big) \\, \\dfrac{{\\rm d}x}{{\\rm d}\\xi} \\, {\\rm d}\\xi$$"
   ]
  },
  {
   "cell_type": "code",
   "execution_count": 16,
   "id": "documentary-thanksgiving",
   "metadata": {},
   "outputs": [],
   "source": [
    "# Input\n",
    "L = 1 # length of 1D domain\n",
    "a = 100 # convective_vel\n",
    "diffusivity = 1 # diffusivity\n",
    "f = 5 # source term\n",
    "u0 = 0 # essential bc (vel) @ x=0\n",
    "uL = 1 # essential bc (vel) @ x=L\n",
    "num_elements = np.array([4,8,16,32,64,128,256,512]) # number of elements for convergence study\n",
    "h_array = L/num_elements # list of h for each case"
   ]
  },
  {
   "cell_type": "markdown",
   "id": "warming-trailer",
   "metadata": {},
   "source": [
    "First, let's do the convergence analysis **without** SUPG."
   ]
  },
  {
   "cell_type": "code",
   "execution_count": 17,
   "id": "increased-allergy",
   "metadata": {},
   "outputs": [],
   "source": [
    "l2_errors_no_supg = np.zeros(num_elements.size)\n",
    "\n",
    "for idx, num_element in enumerate(num_elements):\n",
    "    \n",
    "    #Instatiate the problem\n",
    "    problem = advectionDiffusionFEM(L=L, \n",
    "                                    num_elem=num_element, \n",
    "                                    convective_vel=a, \n",
    "                                    diffusivity=k, \n",
    "                                    f=f, \n",
    "                                    u0=u0, \n",
    "                                    uL=uL,\n",
    "                                    ADD_SUPG=False)\n",
    "\n",
    "    #Assemble\n",
    "    problem.assemble()\n",
    "\n",
    "    #Apply boundary conditions\n",
    "    problem.apply_essential_bc()\n",
    "\n",
    "    #Solve\n",
    "    problem.solve()\n",
    "\n",
    "    #Calculate the l2 error\n",
    "    l2_errors_no_supg[idx] = problem.eval_l2_error()\n"
   ]
  },
  {
   "cell_type": "code",
   "execution_count": 18,
   "id": "chronic-arthur",
   "metadata": {},
   "outputs": [
    {
     "data": {
      "text/plain": [
       "<matplotlib.legend.Legend at 0x7fee86d84e20>"
      ]
     },
     "execution_count": 18,
     "metadata": {},
     "output_type": "execute_result"
    },
    {
     "data": {
      "image/png": "[encoded data removed]",
      "text/plain": [
       "<Figure size 504x504 with 1 Axes>"
      ]
     },
     "metadata": {
      "needs_background": "light"
     },
     "output_type": "display_data"
    }
   ],
   "source": [
    "fig, ax = plt.subplots(figsize=(7,7))\n",
    "\n",
    "error_array = l2_errors_no_supg\n",
    "\n",
    "slope = 2\n",
    "intercept = np.log10(error_array[-1]) - np.log10(h_array[-1])*slope\n",
    "\n",
    "ax.plot(np.log10(h_array), np.log10(h_array)*slope + intercept);\n",
    "\n",
    "ax.scatter(np.log10(h_array), np.log10(error_array), s=80, label='slope = %.2f' %slope);\n",
    "\n",
    "ax.set_xlabel('log(h)', fontsize=20)\n",
    "ax.set_ylabel('log(err)', fontsize=20)\n",
    "\n",
    "ax.tick_params(labelsize=16)\n",
    "ax.legend(fontsize=16)"
   ]
  },
  {
   "cell_type": "code",
   "execution_count": null,
   "id": "popular-annotation",
   "metadata": {},
   "outputs": [],
   "source": []
  },
  {
   "cell_type": "markdown",
   "id": "sweet-concern",
   "metadata": {},
   "source": [
    "Now let's do the convergence analysis **with** SUPG."
   ]
  },
  {
   "cell_type": "code",
   "execution_count": 19,
   "id": "third-moscow",
   "metadata": {},
   "outputs": [],
   "source": [
    "l2_errors_no_supg = np.zeros(num_elements.size)\n",
    "\n",
    "for idx, num_element in enumerate(num_elements):\n",
    "    \n",
    "    #Instatiate the problem\n",
    "    problem = advectionDiffusionFEM(L=L, \n",
    "                                    num_elem=num_element, \n",
    "                                    convective_vel=a, \n",
    "                                    diffusivity=k, \n",
    "                                    f=f, \n",
    "                                    u0=u0, \n",
    "                                    uL=uL,\n",
    "                                    ADD_SUPG=True)\n",
    "\n",
    "    #Assemble\n",
    "    problem.assemble()\n",
    "\n",
    "    #Apply boundary conditions\n",
    "    problem.apply_essential_bc()\n",
    "\n",
    "    #Solve\n",
    "    problem.solve()\n",
    "\n",
    "    #Calculate the l2 error\n",
    "    l2_errors_no_supg[idx] = problem.eval_l2_error()\n"
   ]
  },
  {
   "cell_type": "code",
   "execution_count": 20,
   "id": "gentle-projector",
   "metadata": {},
   "outputs": [
    {
     "data": {
      "text/plain": [
       "<matplotlib.legend.Legend at 0x7fee86ed3700>"
      ]
     },
     "execution_count": 20,
     "metadata": {},
     "output_type": "execute_result"
    },
    {
     "data": {
      "image/png": "[encoded data removed]",
      "text/plain": [
       "<Figure size 504x504 with 1 Axes>"
      ]
     },
     "metadata": {
      "needs_background": "light"
     },
     "output_type": "display_data"
    }
   ],
   "source": [
    "fig, ax = plt.subplots(figsize=(7,7))\n",
    "\n",
    "error_array = l2_errors_no_supg\n",
    "\n",
    "slope = 2\n",
    "intercept = np.log10(error_array[-1]) - np.log10(h_array[-1])*slope\n",
    "\n",
    "ax.plot(np.log10(h_array), np.log10(h_array)*slope + intercept);\n",
    "\n",
    "ax.scatter(np.log10(h_array), np.log10(error_array), s=80, label='slope = %.2f' %slope);\n",
    "\n",
    "ax.set_xlabel('log(h)', fontsize=20)\n",
    "ax.set_ylabel('log(err)', fontsize=20)\n",
    "\n",
    "ax.tick_params(labelsize=16)\n",
    "ax.legend(fontsize=16)"
   ]
  },
  {
   "cell_type": "code",
   "execution_count": null,
   "id": "visible-socket",
   "metadata": {},
   "outputs": [],
   "source": []
  },
  {
   "cell_type": "code",
   "execution_count": null,
   "id": "detected-straight",
   "metadata": {},
   "outputs": [],
   "source": []
  }
 ],
 "metadata": {
  "kernelspec": {
   "display_name": "Python 3",
   "language": "python",
   "name": "python3"
  },
  "language_info": {
   "codemirror_mode": {
    "name": "ipython",
    "version": 3
   },
   "file_extension": ".py",
   "mimetype": "text/x-python",
   "name": "python",
   "nbconvert_exporter": "python",
   "pygments_lexer": "ipython3",
   "version": "3.8.5"
  }
 },
 "nbformat": 4,
 "nbformat_minor": 5
}
